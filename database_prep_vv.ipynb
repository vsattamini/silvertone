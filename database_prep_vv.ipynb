{
  "nbformat": 4,
  "nbformat_minor": 0,
  "metadata": {
    "colab": {
      "provenance": []
    },
    "kernelspec": {
      "name": "python3",
      "display_name": "Python 3"
    },
    "language_info": {
      "name": "python"
    }
  },
  "cells": [
    {
      "cell_type": "code",
      "execution_count": 1,
      "metadata": {
        "colab": {
          "base_uri": "https://localhost:8080/"
        },
        "id": "oU5hZvDcScfn",
        "outputId": "daebc09e-12b3-4674-9423-6c7a312c0601"
      },
      "outputs": [
        {
          "output_type": "stream",
          "name": "stdout",
          "text": [
            "Mounted at /content/drive\n"
          ]
        }
      ],
      "source": [
        "from google.colab import drive\n",
        "drive.mount('/content/drive', force_remount=True)\n",
        "\n",
        "from glob import glob"
      ]
    },
    {
      "cell_type": "code",
      "source": [
        "import os\n",
        "\n",
        "# os.chdir allows you to change directories, like cd in the Terminal\n",
        "os.chdir('/content/drive/MyDrive/Colab Notebooks')"
      ],
      "metadata": {
        "id": "YiF70U2UTi7Y"
      },
      "execution_count": 2,
      "outputs": []
    },
    {
      "cell_type": "code",
      "source": [
        "speech = glob(\"/content/drive/MyDrive/Emotion Datasets/Emotion Datasets/Audio/RAVDESS/Audio_Speech_Actors_01-24/*.wav\")"
      ],
      "metadata": {
        "id": "9didwufnSeyI"
      },
      "execution_count": 3,
      "outputs": []
    },
    {
      "cell_type": "code",
      "source": [
        "len(speech)"
      ],
      "metadata": {
        "colab": {
          "base_uri": "https://localhost:8080/"
        },
        "id": "BhLICnl1oIXT",
        "outputId": "5bea07a5-f04c-401a-88f5-6c574c624b31"
      },
      "execution_count": 4,
      "outputs": [
        {
          "output_type": "execute_result",
          "data": {
            "text/plain": [
              "1440"
            ]
          },
          "metadata": {},
          "execution_count": 4
        }
      ]
    },
    {
      "cell_type": "code",
      "source": [
        "from audio_formating import Silvertone\n",
        "from glob import glob\n",
        "from google.colab import drive\n",
        "import numpy as np\n",
        "import pandas as pd\n",
        "\n",
        "from glob import glob\n",
        "from google.colab import drive\n",
        "import numpy as np\n"
      ],
      "metadata": {
        "id": "hiXLip0Bqakt"
      },
      "execution_count": 5,
      "outputs": []
    },
    {
      "cell_type": "code",
      "source": [
        "# drive.mount('/content/drive', force_remount=True)"
      ],
      "metadata": {
        "id": "2JmUdL-JqhzC"
      },
      "execution_count": 6,
      "outputs": []
    },
    {
      "cell_type": "code",
      "source": [
        "speech = glob(\"/content/drive/MyDrive/Emotion Datasets/Emotion Datasets/Audio/RAVDESS/Audio_Speech_Actors_01-24/*.wav\")"
      ],
      "metadata": {
        "id": "aPg1PTd5qhZD"
      },
      "execution_count": 7,
      "outputs": []
    },
    {
      "cell_type": "code",
      "source": [
        "len(speech)"
      ],
      "metadata": {
        "colab": {
          "base_uri": "https://localhost:8080/"
        },
        "id": "UJgomDUxqkOT",
        "outputId": "6faa59c8-6e29-4c52-8e26-122bb88ae143"
      },
      "execution_count": 8,
      "outputs": [
        {
          "output_type": "execute_result",
          "data": {
            "text/plain": [
              "1440"
            ]
          },
          "metadata": {},
          "execution_count": 8
        }
      ]
    },
    {
      "cell_type": "code",
      "source": [
        "for i in np.arange(0, len(speech)):\n",
        "  print(i)"
      ],
      "metadata": {
        "id": "Ql06D4O-pyjc"
      },
      "execution_count": null,
      "outputs": []
    },
    {
      "cell_type": "code",
      "source": [
        "wave = []\n",
        "spec = []\n",
        "id = []\n",
        "spectral_centroid = []\n",
        "mfcc = []\n",
        "chroma_stft = []\n",
        "tonnetz = []\n",
        "source = []\n",
        "emotion = []\n",
        "\n",
        "for i in np.arange(0, len(speech)):\n",
        "  tone = Silvertone(speech[i], 256)\n",
        "  spec.append(tone.S_db_mel)\n",
        "  wave.append(tone.x)\n",
        "  spectral_centroid.append(tone.spectral_centroid)\n",
        "  mfcc.append(tone.mfcc)\n",
        "  chroma_stft.append(tone.chroma_stft)\n",
        "  tonnetz.append(tone.tonnetz)\n",
        "  id.append(speech[i][-24:-4])\n",
        "  source.append('ravdess')\n",
        "  emotion.append(speech[i][-17:-16])"
      ],
      "metadata": {
        "colab": {
          "base_uri": "https://localhost:8080/"
        },
        "id": "bisyGfeuoJdr",
        "outputId": "6dc436f9-be40-486a-ab70-5af8ee67de81"
      },
      "execution_count": 12,
      "outputs": [
        {
          "output_type": "stream",
          "name": "stderr",
          "text": [
            "/usr/local/lib/python3.7/dist-packages/librosa/core/spectrum.py:224: UserWarning: n_fft=1024 is too small for input signal of length=1012\n",
            "  n_fft, y.shape[-1]\n"
          ]
        }
      ]
    },
    {
      "cell_type": "code",
      "source": [
        "dic = {\"id\": id,\"wave\": wave, \"spec\": spec, \"spectral_centroid\": spectral_centroid, \"mfcc\": mfcc, \"chroma_stft\": chroma_stft, \"tonnetz\": tonnetz,\"emotion\":emotion}"
      ],
      "metadata": {
        "id": "bzMKxag5qsNF"
      },
      "execution_count": 13,
      "outputs": []
    },
    {
      "cell_type": "code",
      "source": [
        "df = pd.DataFrame(dic)"
      ],
      "metadata": {
        "id": "SufLys2Gqstx"
      },
      "execution_count": 14,
      "outputs": []
    },
    {
      "cell_type": "code",
      "source": [
        "df"
      ],
      "metadata": {
        "id": "uu3-4D30qvoW",
        "colab": {
          "base_uri": "https://localhost:8080/",
          "height": 1000
        },
        "outputId": "181e8497-17bd-4940-df9a-031978d6ecf3"
      },
      "execution_count": 15,
      "outputs": [
        {
          "output_type": "execute_result",
          "data": {
            "text/plain": [
              "                        id                                               wave  \\\n",
              "0     03-01-08-02-01-01-08  [-9.7951386e-05, -0.00015394638, -0.0001140640...   \n",
              "1     03-01-06-01-02-02-08  [-8.650616e-05, -0.00013339471, -0.00011452433...   \n",
              "2     03-01-07-01-01-01-08  [4.490244e-05, 6.364403e-05, 3.8157756e-05, 7....   \n",
              "3     03-01-08-01-02-02-08  [3.183811e-05, 4.1204537e-05, 1.8614803e-05, 1...   \n",
              "4     03-01-07-02-01-02-08  [-6.1997175e-06, -1.2222978e-05, -1.0545186e-0...   \n",
              "...                    ...                                                ...   \n",
              "1435  03-01-07-01-02-01-08  [0.00014008651, 0.00020711741, 0.00019653598, ...   \n",
              "1436  03-01-06-02-02-01-08  [3.4688014e-06, -4.442788e-06, 6.5306676e-06, ...   \n",
              "1437  03-01-08-01-01-02-08  [1.2677683e-08, -1.9297664e-08, 2.4630864e-08,...   \n",
              "1438  03-01-08-01-02-01-08  [2.0417896e-05, 5.9584192e-05, 2.2124757e-05, ...   \n",
              "1439  03-01-07-02-02-01-08  [-3.705103e-07, 7.0713605e-07, -1.1072846e-06,...   \n",
              "\n",
              "                                                   spec  \\\n",
              "0     [[-80.0, -80.0, -80.0, -80.0, -80.0, -80.0, -8...   \n",
              "1     [[-80.0, -80.0, -80.0, -80.0, -80.0, -80.0, -8...   \n",
              "2     [[-80.0, -80.0, -80.0, -80.0, -80.0, -80.0, -7...   \n",
              "3     [[-80.0, -80.0, -80.0, -80.0, -80.0, -80.0, -8...   \n",
              "4     [[-80.0, -80.0, -80.0, -80.0, -80.0, -80.0, -8...   \n",
              "...                                                 ...   \n",
              "1435  [[-80.0, -80.0, -80.0, -80.0, -80.0, -80.0, -8...   \n",
              "1436  [[-80.0, -80.0, -80.0, -80.0, -80.0, -80.0, -8...   \n",
              "1437  [[-80.0, -80.0, -80.0, -80.0, -80.0, -80.0, -8...   \n",
              "1438  [[-80.0, -80.0, -80.0, -80.0, -80.0, -80.0, -8...   \n",
              "1439  [[-80.0, -80.0, -80.0, -80.0, -80.0, -80.0, -8...   \n",
              "\n",
              "                                      spectral_centroid  \\\n",
              "0     [[47.0926633149234, 93.40151822256742, 107.357...   \n",
              "1     [[202.5030952847496, 190.2353959932989, 187.02...   \n",
              "2     [[162.3389699112637, 150.74995909969496, 97.23...   \n",
              "3     [[454.925007586996, 206.36352228290713, 173.57...   \n",
              "4     [[73.46948286235258, 62.39630099050803, 108.36...   \n",
              "...                                                 ...   \n",
              "1435  [[118.98885968920804, 113.44669104014304, 120....   \n",
              "1436  [[2818.7486400998405, 1600.8002063119463, 1190...   \n",
              "1437  [[229.7651124165973, 98.8964427453629, 96.5905...   \n",
              "1438  [[141.96156429881654, 70.4971160392147, 43.387...   \n",
              "1439  [[139.35779039864647, 81.4838093314323, 56.292...   \n",
              "\n",
              "                                                   mfcc  \\\n",
              "0     [[3.637657e-05, 1.6241956e-05, 1.21870935e-05,...   \n",
              "1     [[6.364021e-06, 7.1016025e-06, 5.910637e-06, 3...   \n",
              "2     [[9.186046e-06, 1.1276332e-05, 1.9129606e-05, ...   \n",
              "3     [[1.2574272e-06, 5.611565e-06, 9.436768e-06, 1...   \n",
              "4     [[2.677196e-05, 2.1848557e-05, 1.2723341e-05, ...   \n",
              "...                                                 ...   \n",
              "1435  [[2.4975385e-05, 2.8197735e-05, 2.035336e-05, ...   \n",
              "1436  [[7.383689e-06, 1.1596587e-05, 2.1016045e-05, ...   \n",
              "1437  [[4.963832e-06, 3.0573374e-05, 4.323785e-05, 3...   \n",
              "1438  [[8.158125e-06, 2.0380328e-05, 4.369185e-05, 6...   \n",
              "1439  [[3.9083598e-06, 1.1361904e-05, 2.4297196e-05,...   \n",
              "\n",
              "                                            chroma_stft  \\\n",
              "0     [[0.6299272, 0.54295194, 0.8391381, 0.9529438,...   \n",
              "1     [[0.93197465, 0.9680669, 0.95783556, 0.8301008...   \n",
              "2     [[1.0, 0.9445409, 0.78295815, 0.9301964, 0.753...   \n",
              "3     [[1.0, 0.7509691, 0.8913128, 0.7887939, 0.7663...   \n",
              "4     [[0.8542507, 0.90924865, 0.953734, 0.9612123, ...   \n",
              "...                                                 ...   \n",
              "1435  [[0.679909, 0.7137233, 0.8754716, 0.6740021, 0...   \n",
              "1436  [[0.2534683, 0.29153574, 0.275086, 0.31913364,...   \n",
              "1437  [[1.0, 0.9731513, 0.84167665, 0.79179883, 0.83...   \n",
              "1438  [[1.0, 0.9454026, 0.9370998, 0.952737, 0.94906...   \n",
              "1439  [[0.9914019, 0.9920095, 0.7737749, 0.7531706, ...   \n",
              "\n",
              "                                                tonnetz emotion  \n",
              "0     [[-0.034334835243852495, -0.03327549061104668,...       8  \n",
              "1     [[-0.019529777865502685, -0.025596000004732805...       6  \n",
              "2     [[-0.19988226349141555, -0.19554851049456942, ...       7  \n",
              "3     [[-0.1361043176610997, -0.13121712565999413, -...       8  \n",
              "4     [[-0.046055642591171654, -0.04313778938354242,...       7  \n",
              "...                                                 ...     ...  \n",
              "1435  [[-0.12766553091698496, -0.13068656601725812, ...       7  \n",
              "1436  [[-0.08653582730140076, -0.06998111194808436, ...       6  \n",
              "1437  [[-0.04621220751992007, -0.04714453668981226, ...       8  \n",
              "1438  [[-0.0599243942944597, -0.05705127826735171, -...       8  \n",
              "1439  [[0.046274533666397215, 0.04218657154630144, 0...       7  \n",
              "\n",
              "[1440 rows x 8 columns]"
            ],
            "text/html": [
              "\n",
              "  <div id=\"df-9d00679b-c5a4-4ba4-8bd0-b24f1b493595\">\n",
              "    <div class=\"colab-df-container\">\n",
              "      <div>\n",
              "<style scoped>\n",
              "    .dataframe tbody tr th:only-of-type {\n",
              "        vertical-align: middle;\n",
              "    }\n",
              "\n",
              "    .dataframe tbody tr th {\n",
              "        vertical-align: top;\n",
              "    }\n",
              "\n",
              "    .dataframe thead th {\n",
              "        text-align: right;\n",
              "    }\n",
              "</style>\n",
              "<table border=\"1\" class=\"dataframe\">\n",
              "  <thead>\n",
              "    <tr style=\"text-align: right;\">\n",
              "      <th></th>\n",
              "      <th>id</th>\n",
              "      <th>wave</th>\n",
              "      <th>spec</th>\n",
              "      <th>spectral_centroid</th>\n",
              "      <th>mfcc</th>\n",
              "      <th>chroma_stft</th>\n",
              "      <th>tonnetz</th>\n",
              "      <th>emotion</th>\n",
              "    </tr>\n",
              "  </thead>\n",
              "  <tbody>\n",
              "    <tr>\n",
              "      <th>0</th>\n",
              "      <td>03-01-08-02-01-01-08</td>\n",
              "      <td>[-9.7951386e-05, -0.00015394638, -0.0001140640...</td>\n",
              "      <td>[[-80.0, -80.0, -80.0, -80.0, -80.0, -80.0, -8...</td>\n",
              "      <td>[[47.0926633149234, 93.40151822256742, 107.357...</td>\n",
              "      <td>[[3.637657e-05, 1.6241956e-05, 1.21870935e-05,...</td>\n",
              "      <td>[[0.6299272, 0.54295194, 0.8391381, 0.9529438,...</td>\n",
              "      <td>[[-0.034334835243852495, -0.03327549061104668,...</td>\n",
              "      <td>8</td>\n",
              "    </tr>\n",
              "    <tr>\n",
              "      <th>1</th>\n",
              "      <td>03-01-06-01-02-02-08</td>\n",
              "      <td>[-8.650616e-05, -0.00013339471, -0.00011452433...</td>\n",
              "      <td>[[-80.0, -80.0, -80.0, -80.0, -80.0, -80.0, -8...</td>\n",
              "      <td>[[202.5030952847496, 190.2353959932989, 187.02...</td>\n",
              "      <td>[[6.364021e-06, 7.1016025e-06, 5.910637e-06, 3...</td>\n",
              "      <td>[[0.93197465, 0.9680669, 0.95783556, 0.8301008...</td>\n",
              "      <td>[[-0.019529777865502685, -0.025596000004732805...</td>\n",
              "      <td>6</td>\n",
              "    </tr>\n",
              "    <tr>\n",
              "      <th>2</th>\n",
              "      <td>03-01-07-01-01-01-08</td>\n",
              "      <td>[4.490244e-05, 6.364403e-05, 3.8157756e-05, 7....</td>\n",
              "      <td>[[-80.0, -80.0, -80.0, -80.0, -80.0, -80.0, -7...</td>\n",
              "      <td>[[162.3389699112637, 150.74995909969496, 97.23...</td>\n",
              "      <td>[[9.186046e-06, 1.1276332e-05, 1.9129606e-05, ...</td>\n",
              "      <td>[[1.0, 0.9445409, 0.78295815, 0.9301964, 0.753...</td>\n",
              "      <td>[[-0.19988226349141555, -0.19554851049456942, ...</td>\n",
              "      <td>7</td>\n",
              "    </tr>\n",
              "    <tr>\n",
              "      <th>3</th>\n",
              "      <td>03-01-08-01-02-02-08</td>\n",
              "      <td>[3.183811e-05, 4.1204537e-05, 1.8614803e-05, 1...</td>\n",
              "      <td>[[-80.0, -80.0, -80.0, -80.0, -80.0, -80.0, -8...</td>\n",
              "      <td>[[454.925007586996, 206.36352228290713, 173.57...</td>\n",
              "      <td>[[1.2574272e-06, 5.611565e-06, 9.436768e-06, 1...</td>\n",
              "      <td>[[1.0, 0.7509691, 0.8913128, 0.7887939, 0.7663...</td>\n",
              "      <td>[[-0.1361043176610997, -0.13121712565999413, -...</td>\n",
              "      <td>8</td>\n",
              "    </tr>\n",
              "    <tr>\n",
              "      <th>4</th>\n",
              "      <td>03-01-07-02-01-02-08</td>\n",
              "      <td>[-6.1997175e-06, -1.2222978e-05, -1.0545186e-0...</td>\n",
              "      <td>[[-80.0, -80.0, -80.0, -80.0, -80.0, -80.0, -8...</td>\n",
              "      <td>[[73.46948286235258, 62.39630099050803, 108.36...</td>\n",
              "      <td>[[2.677196e-05, 2.1848557e-05, 1.2723341e-05, ...</td>\n",
              "      <td>[[0.8542507, 0.90924865, 0.953734, 0.9612123, ...</td>\n",
              "      <td>[[-0.046055642591171654, -0.04313778938354242,...</td>\n",
              "      <td>7</td>\n",
              "    </tr>\n",
              "    <tr>\n",
              "      <th>...</th>\n",
              "      <td>...</td>\n",
              "      <td>...</td>\n",
              "      <td>...</td>\n",
              "      <td>...</td>\n",
              "      <td>...</td>\n",
              "      <td>...</td>\n",
              "      <td>...</td>\n",
              "      <td>...</td>\n",
              "    </tr>\n",
              "    <tr>\n",
              "      <th>1435</th>\n",
              "      <td>03-01-07-01-02-01-08</td>\n",
              "      <td>[0.00014008651, 0.00020711741, 0.00019653598, ...</td>\n",
              "      <td>[[-80.0, -80.0, -80.0, -80.0, -80.0, -80.0, -8...</td>\n",
              "      <td>[[118.98885968920804, 113.44669104014304, 120....</td>\n",
              "      <td>[[2.4975385e-05, 2.8197735e-05, 2.035336e-05, ...</td>\n",
              "      <td>[[0.679909, 0.7137233, 0.8754716, 0.6740021, 0...</td>\n",
              "      <td>[[-0.12766553091698496, -0.13068656601725812, ...</td>\n",
              "      <td>7</td>\n",
              "    </tr>\n",
              "    <tr>\n",
              "      <th>1436</th>\n",
              "      <td>03-01-06-02-02-01-08</td>\n",
              "      <td>[3.4688014e-06, -4.442788e-06, 6.5306676e-06, ...</td>\n",
              "      <td>[[-80.0, -80.0, -80.0, -80.0, -80.0, -80.0, -8...</td>\n",
              "      <td>[[2818.7486400998405, 1600.8002063119463, 1190...</td>\n",
              "      <td>[[7.383689e-06, 1.1596587e-05, 2.1016045e-05, ...</td>\n",
              "      <td>[[0.2534683, 0.29153574, 0.275086, 0.31913364,...</td>\n",
              "      <td>[[-0.08653582730140076, -0.06998111194808436, ...</td>\n",
              "      <td>6</td>\n",
              "    </tr>\n",
              "    <tr>\n",
              "      <th>1437</th>\n",
              "      <td>03-01-08-01-01-02-08</td>\n",
              "      <td>[1.2677683e-08, -1.9297664e-08, 2.4630864e-08,...</td>\n",
              "      <td>[[-80.0, -80.0, -80.0, -80.0, -80.0, -80.0, -8...</td>\n",
              "      <td>[[229.7651124165973, 98.8964427453629, 96.5905...</td>\n",
              "      <td>[[4.963832e-06, 3.0573374e-05, 4.323785e-05, 3...</td>\n",
              "      <td>[[1.0, 0.9731513, 0.84167665, 0.79179883, 0.83...</td>\n",
              "      <td>[[-0.04621220751992007, -0.04714453668981226, ...</td>\n",
              "      <td>8</td>\n",
              "    </tr>\n",
              "    <tr>\n",
              "      <th>1438</th>\n",
              "      <td>03-01-08-01-02-01-08</td>\n",
              "      <td>[2.0417896e-05, 5.9584192e-05, 2.2124757e-05, ...</td>\n",
              "      <td>[[-80.0, -80.0, -80.0, -80.0, -80.0, -80.0, -8...</td>\n",
              "      <td>[[141.96156429881654, 70.4971160392147, 43.387...</td>\n",
              "      <td>[[8.158125e-06, 2.0380328e-05, 4.369185e-05, 6...</td>\n",
              "      <td>[[1.0, 0.9454026, 0.9370998, 0.952737, 0.94906...</td>\n",
              "      <td>[[-0.0599243942944597, -0.05705127826735171, -...</td>\n",
              "      <td>8</td>\n",
              "    </tr>\n",
              "    <tr>\n",
              "      <th>1439</th>\n",
              "      <td>03-01-07-02-02-01-08</td>\n",
              "      <td>[-3.705103e-07, 7.0713605e-07, -1.1072846e-06,...</td>\n",
              "      <td>[[-80.0, -80.0, -80.0, -80.0, -80.0, -80.0, -8...</td>\n",
              "      <td>[[139.35779039864647, 81.4838093314323, 56.292...</td>\n",
              "      <td>[[3.9083598e-06, 1.1361904e-05, 2.4297196e-05,...</td>\n",
              "      <td>[[0.9914019, 0.9920095, 0.7737749, 0.7531706, ...</td>\n",
              "      <td>[[0.046274533666397215, 0.04218657154630144, 0...</td>\n",
              "      <td>7</td>\n",
              "    </tr>\n",
              "  </tbody>\n",
              "</table>\n",
              "<p>1440 rows × 8 columns</p>\n",
              "</div>\n",
              "      <button class=\"colab-df-convert\" onclick=\"convertToInteractive('df-9d00679b-c5a4-4ba4-8bd0-b24f1b493595')\"\n",
              "              title=\"Convert this dataframe to an interactive table.\"\n",
              "              style=\"display:none;\">\n",
              "        \n",
              "  <svg xmlns=\"http://www.w3.org/2000/svg\" height=\"24px\"viewBox=\"0 0 24 24\"\n",
              "       width=\"24px\">\n",
              "    <path d=\"M0 0h24v24H0V0z\" fill=\"none\"/>\n",
              "    <path d=\"M18.56 5.44l.94 2.06.94-2.06 2.06-.94-2.06-.94-.94-2.06-.94 2.06-2.06.94zm-11 1L8.5 8.5l.94-2.06 2.06-.94-2.06-.94L8.5 2.5l-.94 2.06-2.06.94zm10 10l.94 2.06.94-2.06 2.06-.94-2.06-.94-.94-2.06-.94 2.06-2.06.94z\"/><path d=\"M17.41 7.96l-1.37-1.37c-.4-.4-.92-.59-1.43-.59-.52 0-1.04.2-1.43.59L10.3 9.45l-7.72 7.72c-.78.78-.78 2.05 0 2.83L4 21.41c.39.39.9.59 1.41.59.51 0 1.02-.2 1.41-.59l7.78-7.78 2.81-2.81c.8-.78.8-2.07 0-2.86zM5.41 20L4 18.59l7.72-7.72 1.47 1.35L5.41 20z\"/>\n",
              "  </svg>\n",
              "      </button>\n",
              "      \n",
              "  <style>\n",
              "    .colab-df-container {\n",
              "      display:flex;\n",
              "      flex-wrap:wrap;\n",
              "      gap: 12px;\n",
              "    }\n",
              "\n",
              "    .colab-df-convert {\n",
              "      background-color: #E8F0FE;\n",
              "      border: none;\n",
              "      border-radius: 50%;\n",
              "      cursor: pointer;\n",
              "      display: none;\n",
              "      fill: #1967D2;\n",
              "      height: 32px;\n",
              "      padding: 0 0 0 0;\n",
              "      width: 32px;\n",
              "    }\n",
              "\n",
              "    .colab-df-convert:hover {\n",
              "      background-color: #E2EBFA;\n",
              "      box-shadow: 0px 1px 2px rgba(60, 64, 67, 0.3), 0px 1px 3px 1px rgba(60, 64, 67, 0.15);\n",
              "      fill: #174EA6;\n",
              "    }\n",
              "\n",
              "    [theme=dark] .colab-df-convert {\n",
              "      background-color: #3B4455;\n",
              "      fill: #D2E3FC;\n",
              "    }\n",
              "\n",
              "    [theme=dark] .colab-df-convert:hover {\n",
              "      background-color: #434B5C;\n",
              "      box-shadow: 0px 1px 3px 1px rgba(0, 0, 0, 0.15);\n",
              "      filter: drop-shadow(0px 1px 2px rgba(0, 0, 0, 0.3));\n",
              "      fill: #FFFFFF;\n",
              "    }\n",
              "  </style>\n",
              "\n",
              "      <script>\n",
              "        const buttonEl =\n",
              "          document.querySelector('#df-9d00679b-c5a4-4ba4-8bd0-b24f1b493595 button.colab-df-convert');\n",
              "        buttonEl.style.display =\n",
              "          google.colab.kernel.accessAllowed ? 'block' : 'none';\n",
              "\n",
              "        async function convertToInteractive(key) {\n",
              "          const element = document.querySelector('#df-9d00679b-c5a4-4ba4-8bd0-b24f1b493595');\n",
              "          const dataTable =\n",
              "            await google.colab.kernel.invokeFunction('convertToInteractive',\n",
              "                                                     [key], {});\n",
              "          if (!dataTable) return;\n",
              "\n",
              "          const docLinkHtml = 'Like what you see? Visit the ' +\n",
              "            '<a target=\"_blank\" href=https://colab.research.google.com/notebooks/data_table.ipynb>data table notebook</a>'\n",
              "            + ' to learn more about interactive tables.';\n",
              "          element.innerHTML = '';\n",
              "          dataTable['output_type'] = 'display_data';\n",
              "          await google.colab.output.renderOutput(dataTable, element);\n",
              "          const docLink = document.createElement('div');\n",
              "          docLink.innerHTML = docLinkHtml;\n",
              "          element.appendChild(docLink);\n",
              "        }\n",
              "      </script>\n",
              "    </div>\n",
              "  </div>\n",
              "  "
            ]
          },
          "metadata": {},
          "execution_count": 15
        }
      ]
    },
    {
      "cell_type": "code",
      "source": [
        "df.to_csv(\"database_v2.csv\")"
      ],
      "metadata": {
        "id": "LWlrJQXLrnRH"
      },
      "execution_count": 16,
      "outputs": []
    },
    {
      "cell_type": "code",
      "source": [],
      "metadata": {
        "id": "C0nlv-Dfu1GC"
      },
      "execution_count": null,
      "outputs": []
    }
  ]
}